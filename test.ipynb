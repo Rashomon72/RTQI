{
 "cells": [
  {
   "cell_type": "code",
   "execution_count": 42,
   "metadata": {},
   "outputs": [],
   "source": [
    "import requests\n",
    "import math\n",
    "\n",
    "\n",
    "API_KEY = \"rE2HqEQbPbMGqGc8qoOatcNIcRowwUXG0OeLM0XKXyE\" # Rashomon\n"
   ]
  },
  {
   "cell_type": "code",
   "execution_count": null,
   "metadata": {},
   "outputs": [
    {
     "data": {
      "text/plain": [
       "'filename'"
      ]
     },
     "execution_count": 7,
     "metadata": {},
     "output_type": "execute_result"
    }
   ],
   "source": [
    "import flexpolyline as fp\n",
    "from geopy.distance import geodesic\n",
    "\n",
    "def literal_coverage(encoded_polyline):\n",
    "    # Decode the polyline into a list of coordinates\n",
    "    coordinates = fp.decode(encoded_polyline)\n",
    "    \n",
    "    # Calculate total distance in kilometers\n",
    "    total_distance = 0\n",
    "    for i in range(len(coordinates) - 1):\n",
    "        point1 = (coordinates[i][0], coordinates[i][1])  # (lat, lon)\n",
    "        point2 = (coordinates[i + 1][0], coordinates[i + 1][1])\n",
    "        total_distance += geodesic(point1, point2).kilometers\n",
    "    \n",
    "    # Calculate the coverage per literal\n",
    "    coverage_per_literal = total_distance / len(encoded_polyline)\n",
    "    return coverage_per_literal\n",
    "\n",
    "# Example usage\n",
    "encoded_polyline = BFoz5xJ67i1B1B7PzIhaxL7Y\n",
    "coverage = literal_coverage(encoded_polyline)\n",
    "print(f\"One literal of the encoded polyline covers approximately {coverage:.6f} km.\")\n"
   ]
  },
  {
   "cell_type": "code",
   "execution_count": 82,
   "metadata": {},
   "outputs": [],
   "source": [
    "import requests\n",
    "import math\n",
    "\n",
    "\n",
    "API_KEY = \"rE2HqEQbPbMGqGc8qoOatcNIcRowwUXG0OeLM0XKXyE\" # Rashomon\n",
    "# API_KEY = \"lhhJFnxCZ_DPhn3hcWBgguaoQXVzPVdbSuK3RybnGbc\" # Rashomon\n"
   ]
  },
  {
   "cell_type": "code",
   "execution_count": 7,
   "metadata": {},
   "outputs": [],
   "source": [
    "polyline = \"BlBoz5xJ67i1BU1B7PUzIhaUxL7YU\""
   ]
  },
  {
   "cell_type": "code",
   "execution_count": 93,
   "metadata": {},
   "outputs": [],
   "source": [
    "def getTraffic(polyline, API_KEY, radius = 50):\n",
    "\n",
    "  params = {\n",
    "              \"locationReferencing\": \"shape\", # Request three alternate routes\n",
    "              \"in\": f\"corridor:{polyline};r={radius}\",\n",
    "              \"apiKey\": API_KEY,\n",
    "            }\n",
    "\n",
    "  result_json = requests.get(\"https://data.traffic.hereapi.com/v7/flow\", params=params)\n",
    "\n",
    "  # getting the average\n",
    "  length = len(result_json.json()[\"results\"])\n",
    "  sum = 0\n",
    "  temp = 0\n",
    "  for i in range(length) :\n",
    "    temp = result_json.json()[\"results\"][i][\"currentFlow\"][\"jamFactor\"]\n",
    "    print(temp)\n",
    "    if(temp != 0):\n",
    "      sum += temp\n",
    "\n",
    "  return math.floor(sum) // length\n"
   ]
  },
  {
   "cell_type": "code",
   "execution_count": 94,
   "metadata": {},
   "outputs": [],
   "source": [
    "polyline = \"BG4slhaoq0r4EvDgGnGoLnLof7BgFvRwqBjIgUjNgjBjSssBjD4IrO4mBzFsO_JsdnBwHA8GUoG8BoL0KouB4D0PUoLT4IAgFTgFjDwM_EgP_E8L3I8QvHgPnGoLnLoV_EgK_EwH7GkIzK0KnGoGrT4SvW8V3mBkmBzZ0Z7VoVvH8GrJsJ_Y0ZnLgKzUoQzPwMzKgKzKoLrT4XjI0KzFsJvHsOzFwMrJoVjX0yBvMgZ_Y0tBnGgKnV8fzF8GvH4IzF4DzFwCjIwCv3C8V7sCkXhcgJ\""
   ]
  },
  {
   "cell_type": "code",
   "execution_count": 95,
   "metadata": {},
   "outputs": [
    {
     "name": "stdout",
     "output_type": "stream",
     "text": [
      "0.0\n",
      "0.0\n"
     ]
    },
    {
     "data": {
      "text/plain": [
       "0"
      ]
     },
     "execution_count": 95,
     "metadata": {},
     "output_type": "execute_result"
    }
   ],
   "source": [
    "getTraffic(polyline, API_KEY, 50)"
   ]
  },
  {
   "cell_type": "code",
   "execution_count": 11,
   "metadata": {},
   "outputs": [],
   "source": [
    "def getPolyline(source_lat, source_long, dest_lat, dest_long, API_KEY):\n",
    "    polylines_arr = []\n",
    "\n",
    "    params = {\n",
    "        \"origin\": f\"{source_lat},{source_long}\",\n",
    "        \"destination\": f\"{dest_lat},{dest_long}\",\n",
    "        \"transportMode\": \"car\",\n",
    "        \"lang\": \"en-gb\",\n",
    "        \"return\": \"polyline\",\n",
    "        \"alternatives\": 3,  # Request three alternate routes\n",
    "        \"apiKey\": API_KEY,\n",
    "    }\n",
    "\n",
    "    try:\n",
    "        result = requests.get(\"https://router.hereapi.com/v8/routes\", params=params)\n",
    "        result.raise_for_status()  # Raise an exception for HTTP errors\n",
    "\n",
    "        # Extract the polylines from the response\n",
    "        for obj in result.json().get(\"routes\", []):\n",
    "            polylines_arr.append(obj[\"sections\"][0][\"polyline\"])\n",
    "\n",
    "    except requests.exceptions.RequestException as e:\n",
    "        print(f\"Error fetching polyline data: {e}\")\n",
    "        return []\n",
    "\n",
    "    return polylines_arr\n"
   ]
  },
  {
   "cell_type": "code",
   "execution_count": null,
   "metadata": {},
   "outputs": [
    {
     "name": "stdout",
     "output_type": "stream",
     "text": [
      "Longest common substring: 'abc'\n"
     ]
    }
   ],
   "source": [
    "def longest_common_substring(str1, str2):\n",
    "    # Create a 2D table to store lengths of longest common suffixes\n",
    "    m, n = len(str1), len(str2)\n",
    "    dp = [[0] * (n + 1) for _ in range(m + 1)]\n",
    "    \n",
    "    # Variables to store the length of the longest common substring and its position\n",
    "    longest = 0\n",
    "    end_pos = 0  # End position of the longest substring in str1\n",
    "    \n",
    "    # Fill the dp table\n",
    "    for i in range(1, m + 1):\n",
    "        for j in range(1, n + 1):\n",
    "            if str1[i - 1] == str2[j - 1]:  # Characters match\n",
    "                dp[i][j] = dp[i - 1][j - 1] + 1\n",
    "                if dp[i][j] > longest:\n",
    "                    longest = dp[i][j]\n",
    "                    end_pos = i\n",
    "            else:\n",
    "                dp[i][j] = 0\n",
    "    \n",
    "    # Extract the longest common substring\n",
    "    longest_substring = str1[end_pos - longest:end_pos]\n",
    "    return longest_substring\n",
    "\n",
    "# Example usage\n",
    "string1 = \"abcdef\"\n",
    "string2 = \"zabcfgh\"\n",
    "result = longest_common_substring(string1, string2)\n",
    "print(f\"Longest common substring: '{result}'\")\n"
   ]
  },
  {
   "cell_type": "code",
   "execution_count": null,
   "metadata": {},
   "outputs": [
    {
     "data": {
      "text/plain": [
       "['BGmut7Z-z5z4E2c-sBwRwbUoBsE4IoBwM8BkDsxB0wCkmB46BoQ0ZgjBs2BkN8VkIkN0PsYkI8L8BkDsd4rBsT0e4XwlB0KoQgKgK0F4D0F8G0FsJsJkN0F0F4IoBsJwC8G8GwCgKvCgKwCgKsJwR4IwM8GsOUwHgPwWsdopBwqBs2B4mB4wBgK6M']"
      ]
     },
     "execution_count": 54,
     "metadata": {},
     "output_type": "execute_result"
    }
   ],
   "source": [
    "str1 = getPolyline(13.556215, 80.015844, 13.567748, 80.032446, API_KEY)\n",
    "str1"
   ]
  },
  {
   "cell_type": "code",
   "execution_count": 49,
   "metadata": {},
   "outputs": [
    {
     "data": {
      "text/plain": [
       "['BGmq67Zm2t04EuFuLUwHgPwWsdopBwqBs2B4mB4wBo2CguDozB0hCgyB0hC4S0ZsYsdwjCo2C0PsToGkI4X4c8akhB4SkX4cgjBwtCwhD4Xgek1BgmC0mCg6C0KgFwqBg3B4DsEoLgP']"
      ]
     },
     "execution_count": 49,
     "metadata": {},
     "output_type": "execute_result"
    }
   ],
   "source": [
    "str2 = getPolyline(13.563192, 80.026392, 13.576544, 80.043699, API_KEY)\n",
    "str2"
   ]
  },
  {
   "cell_type": "code",
   "execution_count": 57,
   "metadata": {},
   "outputs": [
    {
     "data": {
      "text/plain": [
       "24"
      ]
     },
     "execution_count": 57,
     "metadata": {},
     "output_type": "execute_result"
    }
   ],
   "source": [
    "len(longest_common_substring(str1[0], str2[0]))"
   ]
  },
  {
   "cell_type": "code",
   "execution_count": 60,
   "metadata": {},
   "outputs": [],
   "source": [
    "records = [{'_id': ('6747899a61f426590d674dac'), 'source': [28.6139, 32.56], 'destination': [50.09878, 8.6875156], 'polyline': 'BG4hgy_Co28yQAzCA_ET_EnBnGA7GT7LTrTTrTTjNnBzKnB3N7B7LvC3N_E3SoarO0FjDoL7G0FjDkDnB4DT0FT0FAwR8B8GUwHU4DUoVkD0ZwCkDvH8BjIUjI_Ez1C7B_dnB3c7BrdjDjXnLjIvC7BjDvCnQrOvMzKvMnL7L7LrEjD3DvCrEvCrEvCrEvC7G3DvHwCjDoBrE8B_OoGrO0F7Q8GvHkD3D8BnGkDvHkDjXgK7GwCrE8BvCoB7BoB7GsEzKzerEvM_J3cjD3IvC7GvCnG3D3IjD7GjD7G_OzerTriB3IzPnLrT7G7LnLnU', 'email': 'ashraf.p21@iiits.in', 'data': {'Number_of_Lanes': 3, 'Potholes': 0, 'Lane_width': 3.0, 'Traffic_Congestion': 2, 'Lighting_Condition': 1, 'lane_marking': 1}, 'RTQI': 10}]"
   ]
  },
  {
   "cell_type": "code",
   "execution_count": 65,
   "metadata": {},
   "outputs": [
    {
     "name": "stdout",
     "output_type": "stream",
     "text": [
      "BG4hgy_Co28yQAzCA_ET_EnBnGA7GT7LTrTTrTTjNnBzKnB3N7B7LvC3N_E3SoarO0FjDoL7G0FjDkDnB4DT0FT0FAwR8B8GUwHU4DUoVkD0ZwCkDvH8BjIUjI_Ez1C7B_dnB3c7BrdjDjXnLjIvC7BjDvCnQrOvMzKvMnL7L7LrEjD3DvCrEvCrEvCrEvC7G3DvHwCjDoBrE8B_OoGrO0F7Q8GvHkD3D8BnGkDvHkDjXgK7GwCrE8BvCoB7BoB7GsEzKzerEvM_J3cjD3IvC7GvCnG3D3IjD7GjD7G_OzerTriB3IzPnLrT7G7LnLnU\n"
     ]
    }
   ],
   "source": [
    "for record in records:\n",
    "    print(record.get(\"polyline\", \"\"))"
   ]
  },
  {
   "cell_type": "code",
   "execution_count": 72,
   "metadata": {},
   "outputs": [],
   "source": [
    "polyline = \"BGyi9yZgpiz4EpGgPnLgezU4wB7GwRzF4NrEoLjI0UnasgCvHgUrJgZ7BgFnG0PjDkInB4D_EwMnBkDrE4IvCwH7LwgBzK4crJ8V7LwlBzKsd7LsiB_O0tBrJgZ_J8ajI4X3IgZvC4I7GgU7BsJ3DoLzF0PzFoQnGkSrEsO3DsTvM0oBjN8pB7GsT_J8aAkD3DkI7BsE7BgFvboiC_nBwwDjmBksD3N8pBnuB09DnVs7BnLgeze0rC3IoVnfg1Cna0mCjcgwC7Vo4BvH8VnG8QnGsOnB4DjDgKvCgFvCoGjDsJ3IkX7GwRnQ0tB7BwH3DsOjI8fnQgwCnG0ZvH8VjIgUrO4c7L0P7VkX7a4cvRgU3wBozBnpBwqBriB8kB3hB4hBnVkXnGoGrJ4NzKoV_T03BzZ08BvMkhB3cwtC3N8kBnLwbvCoG3NokB_JwWnVgtB7GsOrO8fzUwqBnGwMzP0evMoVrO8VrTgezZ0oBvRgZjhBouBrOsTvH4IzF0F3IgF3IgFjc4NrtD0tBz8BoarJ4DzKsEr2B0U3mBgPv0BsT3D8BrJ4DjN0FzFwCjI4DjN8GnGgF3DkDnLsJrJ8LvHgKzFkIrEgFzK0P3D0F3DsEvRsdrO4cjNgjB3D8L3IsYnQozB3NwqBzFwW3IopBvHof7GkrB3I03BnGkmBrEwgBvH8pBzKozB_EgU_Jw5BnBsOnBgKjD0PnB0KjDsOvHsiBrEwW3DwRzKge7G8VzF4SrJsYzP0oBnGgU3NkmB7LwbnQsnBnG0PnQopB_OopBnL0Z_E8LnBkD_EoLvMsYjIwRvM0evHkSzF4NjIkSzKsY7V8uBzKsY7G0UjIsd7B0KrEoa_EkhBrEwb3Dof7GozBnGsnBnL46BvH4mBvHkrBnB4IjD8LvC0KnB8L7B4N_E8QnGkhBvHwqBvCwRvC4N7BgKvCgPnB8G7GkhB3D8QzF0ZvCkN7L03B_O84BjD8LnG0ZjDsOvH0oB_E8V7GgZ7BgKvC8L7BwH3DsT7BgK7BoLTkDnBwHT8GnB4InBwHT0KA8BT0FnBsJjDsd7B8V7Bof3DgoBvC0ZnBkNToLvCgjBvC0yBTsJzF8iC7BoanB4NTgFnBwHA0FT0K3D8zBjD8kBToLnBkInBsJ7BwRjD8kB7BkSvCkSnBsJvC4NTgPAwMUkNoBgUkDoaoBsJkD8QUkDwCsO8BwHoBwH8BgPUsJU0UA4NUkrBnBoanBwRToGnBkIrEkX7G0Z_EgPnB4D7G0P7GkN_J4SvCgFnB8BrO4c3NgZ7GkNnV0jB_J0PzPkS3D4DjXgZ7QkSvlBgoBnG8GnL0KvH4InG8GrJsJnG8G_JoL_JkNnLsTvHoQrJoavM0oB_E4S3IgezPk6BnQ84BvHkcjDkNjDgK3DkNTkDjD8L7B8LTkDTsEnB0PvC8fToLnB4c7BkcvCsdvCoavCkc7B4XTkInB4IjD8VzF0ejDkSrEgU_EoV_EoVnLokB3N0tB_J8f_EwR3D8LvCwM3DkSnBsJ3DwMjDgKsiBnGkDTwRjD4qEnaoL7BwHnB4XrE0K7BopBjI41B_Jw-BnLoGnB4crEgoB_EsJnBwRjD49CzKoL7BoLnBwHnBwbzF0ZrEgK7BwjCrOgjBvHkpCzPgZzFwWrE8LjD4pC_OsgC3NoQjD8zBnL8GnBk1BzKoQjDsiB7GgenGs2B7LkI7BoGnBwH7BgFnBsYnG4S_EguDzjBozBnQ8GvCgU7G0ZjIk6G_lC8G7B4IjDk6BzUopB3S0UnL4I_E0U7LopBjcsJ7G0UnQ4hBzegK_JgKzK0KvMghCvoC4pC7xCkNrO8anfgKrJgerdkNzKwMrJ4DvCsO_J0U3N8a7QwH_EkI_E4hBvWgejXgPjN0KzKsJ_J8GvH4I_JsO_T0KnQwHnLwb_sB0FrJ4I_OgP_YwHjNkpCrhEkSnfkN_T0K_OwR7VsY7a8V3SgZ3S0ZzPkhBvRkwBvRouB_JoQvCgevCwR7BsOTgZvC4ITofvC08B7GwHTkcjD4mB3DwWnBkXnB8LTkrBrE46BnGkS7B0evC8Q7BkcvCsT7Bg3BrEo4BzF8zB_E8GToLTgrC7G0U7BopBA4NoBsdsEsiB8GkS0FkhBkNkS4IkS4N4cgUgK8GoL4IsToQ8GsEsEkDwMsJ8kB0e8LkIoQsJoVwMgPwH4c8LkckIkhBwHkXwC4rBwC0KToLnBoLT4S3D8V3DgKvCoQ_E0PrEwMzFsdjNkrBjX0P3I8QrJoQrJ4wBjcsd7QgP3IokBzU4SrJkI3D0FvCoLrEoQrEwlB7GgoB7B0oBjDsO7B4NvCwWvCkNT0PTgKnBgtBnBssBnB0yBnBkIAgKAk9CvCouBnBgPAwMAozBTgyB7BgtBTwWT8uBAoQTofTwoCTwqBoBwMAsOUwtCU8kBTgjB_EkXnGsOjD8VvHkXrJoQjIwvB3XwjC3hBsxB_Y4SrJoGjDwjCvgBkcjNgoBvRoLzF85Dz3B0yB3Xwb3Ng_CnuBwM7GwMnGk_B7f0_Cz3BsOrJ0FjDkXjNgyB7f8V7LofzP4NvH4D7BwlBzUkN7G0UnLgZ7L0KzFgK_E8LvH4IrE4SzK0PvHoVzKsOjIgP7G03BrdsY7LouBnVw5BnawbjN0U_J0oBrTkS3IkNnG0enQkrBzU4XnL4mB3S8VzKwM_EkXrJ0U3IwR7G0UnG0Z7G82C3NsT7BwWjD8iCrJ8arEoa3DkhB_Ew0BrJ8Q7BwqBzF4InBgKTgKTwMT4STsYA8QAwHA8lDTsT7BgZvC8arE4_BvMs0CvRoiC3N82CvRgUzFgPzFkNnG0PjIsO_JgU_OoQnQ8QjS8a_d4IrJsTvWwvB_2BwmD70D0ezjB4D3DsTzUwMjNwM7QsOrTgPvWsYnkB4NjXgPnVkDrE8G3IwMvRgPzUkIrJof7fwHvHgUnQ0jBnf8pBnpBwCvCkDjDsTjX4SjX4N3S4hBrxBoG3I0U_d4DzF4uC_tD0FjIkN3S8LnQ0FjIkIjNsE7GwM3S8LnQgFnGgUrd8L7QoQ3XsJ7L8zBvtC0e7pB0K3NoLvMkS7QgPvMgKvHgPzKoV3NgPnGwR7G0P7G4SvH8QzF8GvCgZ3IoVvHkzCzesiBvM0ezK8kBjN0yBvR8QzFwqBrOg8GvjCwgBzKsY3IoazK0tBrTkDnBkDnBoVrJ0ZnLsiBrOgtB3SkSvH0K_EgUvHgerOkN7GgP3IsO3IoL7GkN_JwR_O0jBrd4InG8avW0jB7foLjI4SzPgKjIsE3DsJvHkSjNwH7GwvBvlBsJ7G42D77CkX3SwHnGoa7VoQrO4IvH8LrJsOrJ8anVsYjSs5C3kCoG_E0ZnVonCj6B4XjS4D3D4NnLoG_Eof_Yk6B_sB8uBvlBgUnQwqBriBsTjS8Q7LkIzFwlB_TgPnGgUjIoGvC8G7BoG7B8QzF8VzF4SzF4iDzZ4c_JsTjIsTnLsOrJ0UzPwgBrY0uD72C4DjD4_B_xB0kDjzConC74BofrY4IvHwMnLgZ3S4S7QsErEsJvHsd3X8L3IgjB3cwHnG0hCv0BwHnGw5B_sBsEjDgF3D8GzFwR_OopBvgBopBjhBoG_EoL3IkS_OkX3SoL3IokB3ckSrOwM_JsEjDsTzPo7CrqCoQjNwtC79BgPjNwvBjmB8Q3NoL3I4hB7aokB7a84BjmBoL7GkSvMsJnGwWzPoQrOkIjIwCvC8BvCkNzPoLnQoLnQ8QjXgK7LkIrJwM7L0F_EsJ7GkS3Nw0B_iB8VvM4X_OwgB3S0PrJwHrEoanQkS_JoVvMge7QkD7BsnBrYgKnG89BnkBgkDz8BssBzZsTnLoVvM4SzK8Q_JopBnagUnLkD7BgP3I0P_JoVvMofnQgFvC4SjI4I3D4I3DoGvCoQnG4DnBgZjIgejIoV_EgZ_EkhB_E0FTkSvC4ITgZ3D0KnBsiBrEwM7BwR7BoLnBoGTsET4InBsO7Bwb3D8sCnL0e3D0tBzFkInB8QnBkhBvCsOTs7BnB8QT87C7B0pDjD4_BnB4DA01CvCoGAkDAgtBnBofnBwRAkNT8QAoQTgUTgZ7BoGTopBvCkITwMTwWvCgKnBoGToVvCoL7BkSjDssBvHoazFoLjD0U_E4cvHwR_EoQ_EsEnBgPzF4N_EoL3D0P_EkNrEsE7BoGvCwHvCwRzFwRzFk1BzUkN_EsOzFwM_EsOzFkmB7Q4D7BwHjD8tEj_B01CvlB41B3Xk1BrYsY_J8L_E0PnGgPnGkSvH4NrEsT7GwWnGoQrEkNjDoLvC4DT0P3D8L7B8L7BkSvC4NvCwHnBsJT4S7BgUnBwRnBoLA4XTkNU0FAsJAsToBoQU8LoB8Q8BgFUoLU0UwC4SwCgKoB4S8B4XkD0U8BoLAwHU8QAwWnBoVvCgUrEwHnBgejI82Cze4NrE4mB3NwHjDge_JoiCjXkX7G0F7BsiBnLouBjNwMjDofjIg3B3NgFnB8anGwtCjSkwBvM4I7BkXzFkI7B4I7B8QrEoGnBoLjD0UrEgKvCoGnBwCT4IvCgFnBoQ3DwHnBkS_EoQrEwRrEwWrEoQ_EkSrEgjB7GgjB7G4N7BsJ7B4SjDkIT0KTge3DwCAwWvCsJU8QnB0PAoVnB84BvCoLA8LT8pBnB4uCT0jB3DoGTgeUoLnBwRnBsOnBwM7BgK7BoQ3D0P_EgUzF0F7B0PnGgP7GsJrEkDnB4mB3SsnB3S8QvHoLrEsEnBwHvC0KjDgKjDoQ3DkInB8LvCgPvC0KvCwR7BwW3Dsd_EkNvCkInBwM7BokB3DoLnBkX7BkXAkIAgewC4NUgU8BwqBkDkNoBsOUkIU0U8BwHAsO8Bof8BkX8B8aoBgUU0ZUkXUokBTwHAgenBwMT41B7BgZvC4X7B0ZrEwbnGoarJkX3IoazK0tB7QgUnGsiBjIkmBrE4ITgeAsY8B4c4DkI8BkNwC8LwCwWsE0hCsOkS4DgZoGsOkD4S4DwgBoG8GzF4DjDkD7BoGvCoG7B4DUkInBsEAkN7B8VvCwRrEsTjDkSvC0ZzF0KjDsJ3D0K7GkXzP0F3DwM7GoGvCwHTsEToGT8GUkSAgKUkIAwM7Bof7BwRTgK7B4D7BkDjDkDrEU7B4DrJsEjNkD_JkDnLwCvHgK_doLnpBoV_lC4I3mB0K_sBgKnpB4DjNoG3NsEjI4DrEsE3DwHrEoLzFsOrJwMjI4SzKsTjN4IvHkDrEkDzKkDnLsEzK4DzF4D3DkD7BsET0FUwbgFkIoBsEAkDTwC7B8B3DwC_JoGnfsEvR8Gjc4DvR0F3SUjDkDnL0FrT8B_JsE_TkDzP8BjI8BvMoBvHoBjIU7QT7GAnGzF7frE3XvCnQnB3NjD_O7BzU_EvgBT_E7BzKTzFjDzZnB_J_ErxBT3ST3DnGv0BvCrT7B_O3D_YjDvW7Gv-BTjSUjSkD_Y0FnkB8B7L4In9B0FnfgK3rBgFnQ0FrdoBnG0FnVkDnL4DjSsErYgKzoB8BjNUvMnB_O_EnkBnBjIvCnQjD_OnB_J7BjNvC7QvCrT7Gz3B7BjS7BjNrE3hB_E_nB7BjNnBjI7B_JnB3NjDnV7BvR7BrTvCzZnBnGTvHnBrJ3D3XvCrTjD_TnV_jD_YryD7Lr2BnBjDzKjwB7G7f3I3mBjIjmB7GrYnG7fvCvRzF7xC3D_d7BzPjD7frJjnDzFnkBrE_iB7BrY3D_drEjmBnG_sBT_JUvWwC_sBwC_dU3I8B_xBA7kBnBrsB3Dv3CjDj9CvC31B7Bj1BvC79BAnV7B_OvCjcvC_Y3D_sBjDjhBjDvlBrEj1BjD3hB3D3mBvCrTvH3rB7GzjBrEnQvH3SzKjXjIvRrT_nBrEjNvgB39CvRz3B3NjmB_J3czKnfnLriBzP7uBrOvqB7Q_xBrO7uBzKjmBzKnf3DjSrEvgBrE_iBjD3N3DzK_E7L3NjXvHzPnL7VzK7VvHvMzU3c7L3SjNnQzK3N3IrO7G7L_JjN_J7L_J_JjNzKzK3I7GjInG3I3InQ_JjX3I3S3IjS_JrYnG3XzKvgBvHvWnG3SjIzZ3IjcrJjcvHzUjI7fnBzKAzKAjIT7kBUrxBT3XoBn2CUnLwCzKsJnaoL_dU7B8LzjBgKnaoLjhBkD_JoB_JU_OwC72CUzZ8BjrBUzFUzPwCzK0FrToGjSoQj6B0P_xB4N7uB4NnuB4N7uB8LzoBwCjIkIzZsJzjB8BnL8BnQT_OvC7zBnB3mBnBzZnB_TA7LA_TA7L7B_OnB7a7BvlB7BrnBnBnfvC7iCvC3_BAzU7B3cjDv0BnB7zB3DnzBvC3kC3DvtCnBrdvC3wBjDz1CnBvMvC_JvCnG7L7VrTvlB3InQ7az3BnuBr5C_2BrtDvqB_0CjI_O7GnQwCjDoB7BwC7GoBrEAzF8BvHkS3wBgFrO8BjI8B_E4D_J0F3NgFrO4DzKkN_nBoGvR4Sv0BwH_TouBziEwC_JoBjNA_OTzUnBjX7BrYnBrYvC_nBT3IT7QnBrOnB3ST3N_J_wEnBnQvCjhB7BzZrE36B3DvoCvCjwBTvRnB7f3D7zBnBzZnBjcnBvW7Bvb3Dj6BT7GT7GA_JnBnVTjNT3NT3IT7LvCvvBTrOAzFnB_O7BvWTvMTnQTrJTvHT3NnBnQnB3XnB7fnBrJnBvMnB_O_YkN3N8G_JgFjIsErJgFzPwH_TsJ_Y8LvHkD7QkIzPkI3IsE3I4D7GkD3hB0P3XgK_TkIzjBkN7zBgUjkCoazUkI7kB4Nj6BwWn9BkXzF8B3hBkN_2B0U_-C0jB3IsErOgKzF4DzFgFnGoGvWkhB3mB03BnG4InLkSnLoQnGwMzF8L_EgPvHoarJopB7QgmCrOw0B_EgU3I4X_J4XvMsYvHgPnG8L_JkXrJ4X3DwHjDsErEsE_E4D7G4DrsB4SvR4InLoG7LkI3N0K_OwMrY0UvW0U7LoLzjBofjDwCvgB8anf8arT8QnkB4hB7GgFvH4DvH4DvM4Djc8G_iBkIrdkIjIkDzFkDzF4DrEsEzFoGrYsiBzPwWnQwWzPgUzPkS3NoQ_JkNnagoB3cwvBrY0oB3XgoBvHwM_J4SzP0Z7G0K7GkIvHwHjNoLzKwH3IoG_JgF7GkDjN0F74BwW3SwHvM4DnL4DjIU3IAjITjIvCvHjDrOjI3SzKvMnG7GjDjI3DvHTjIA_JoBvHwCj1BkNv4EgoBzUgFjc8G3mBsJnLwCzFoB7GwCnQsEzoBgKzjBsJvgBsJjc8G7xC8a7f0K7kBsOzZ0KzU4IvWgKnQwHzKgF7GgFrEsE3DgFrEwHnGoLnLof7BgFvRwqBjIgUjNgjBjSssBjD4IrO4mBzFsO_JsdnBwHA8GUoG8BoL0KouB4D0PUoLT4IAgFTgFjDwM_EgP_E8LoQoGwR4DnBsJjDkX_Ew5BAwCrE84BT4N\""
   ]
  },
  {
   "cell_type": "code",
   "execution_count": null,
   "metadata": {},
   "outputs": [],
   "source": []
  }
 ],
 "metadata": {
  "kernelspec": {
   "display_name": "Python 3",
   "language": "python",
   "name": "python3"
  },
  "language_info": {
   "codemirror_mode": {
    "name": "ipython",
    "version": 3
   },
   "file_extension": ".py",
   "mimetype": "text/x-python",
   "name": "python",
   "nbconvert_exporter": "python",
   "pygments_lexer": "ipython3",
   "version": "3.11.7"
  }
 },
 "nbformat": 4,
 "nbformat_minor": 2
}
